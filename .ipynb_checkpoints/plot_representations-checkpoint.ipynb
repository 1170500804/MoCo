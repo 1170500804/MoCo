{
 "cells": [
  {
   "cell_type": "code",
   "execution_count": null,
   "metadata": {},
   "outputs": [],
   "source": [
    "import numpy as np\n",
    "from sklearn.manifold import TSNE\n",
    "import matplotlib.pyplot as plt\n",
    "import seaborn as sns\n",
    "import pandas as pd\n",
    "import time\n",
    "import os\n",
    "\n",
    "from sklearn.manifold import TSNE\n",
    "import matplotlib.pyplot as plt\n",
    "import seaborn as sns"
   ]
  },
  {
   "cell_type": "code",
   "execution_count": null,
   "metadata": {},
   "outputs": [],
   "source": [
    "def plot_t_sne(data_subset_embd, data_subset_label, filename):\n",
    "    time_start = time.time()\n",
    "    tsne = TSNE(n_components=2, verbose=1, perplexity=50, n_iter=3000)\n",
    "    tsne_results = tsne.fit_transform(data_subset_embd)\n",
    "    print('t-SNE done! Time elapsed: {} seconds'.format(time.time() - time_start))\n",
    "    plt.figure(figsize=(15, 15))\n",
    "    # sns.set()\n",
    "\n",
    "    sns_plot = sns.scatterplot(\n",
    "        x=tsne_results[:, 0], y=tsne_results[:, 1],\n",
    "        hue=data_subset_label,\n",
    "        palette=sns.cubehelix_palette(dark=.1, light=.9, hue=1,as_cmap=True, n_colors=len(np.unique(label))),\n",
    "        legend=\"full\",\n",
    "        s=30,\n",
    "        alpha=0.3\n",
    "    )\n",
    "    sns_plot.figure.savefig(filename+'.png')"
   ]
  },
  {
   "cell_type": "code",
   "execution_count": null,
   "metadata": {},
   "outputs": [],
   "source": [
    "base_dir = '/home/shuai/MoCo_stats/embedding/'\n",
    "embedding_path = '/home/shuai/MoCo_stats/embedding/20200904035252checkpoint_0149_embd.csv'\n",
    "label_path = '/home/shuai/MoCo_stats/embedding/20200904035252checkpoint_0149_label.csv'\n",
    "embd = np.loadtxt(embedding_path)\n",
    "label = np.loadtxt(label_path)\n",
    "print('embedding shape: {}'.format(embd.shape))\n",
    "print('label shape: {}'.format(embd.shape))"
   ]
  },
  {
   "cell_type": "code",
   "execution_count": null,
   "metadata": {},
   "outputs": [],
   "source": [
    "label = np.asarray()\n",
    "label = pd.Series(label, dtype=int)"
   ]
  },
  {
   "cell_type": "code",
   "execution_count": null,
   "metadata": {},
   "outputs": [],
   "source": [
    "filename = os.path.join(base_dir, '20200904035252checkpoint_0149')\n",
    "plot_t_sne(embd, label, filename)"
   ]
  }
 ],
 "metadata": {
  "kernelspec": {
   "display_name": "Python 3.7.6 64-bit",
   "language": "python",
   "name": "python37664bit150e47e961f14f579a3bd8ae0f8ea99e"
  },
  "language_info": {
   "codemirror_mode": {
    "name": "ipython",
    "version": 3
   },
   "file_extension": ".py",
   "mimetype": "text/x-python",
   "name": "python",
   "nbconvert_exporter": "python",
   "pygments_lexer": "ipython3",
   "version": "3.7.6"
  }
 },
 "nbformat": 4,
 "nbformat_minor": 2
}
