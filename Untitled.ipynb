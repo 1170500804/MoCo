{
 "cells": [
  {
   "cell_type": "code",
   "execution_count": 85,
   "metadata": {},
   "outputs": [],
   "source": [
    "import pandas as pd"
   ]
  },
  {
   "cell_type": "code",
   "execution_count": 86,
   "metadata": {},
   "outputs": [],
   "source": [
    "df_1 = pd.read_csv('all_bims_train_cleaned.csv')\n",
    "df_3 = pd.read_csv('all_bims_val_cleaned.csv')\n",
    "df_2 = pd.read_csv('YearBuiltLabels.csv')\n",
    "df_4 = pd.read_csv('foundation_type.csv')"
   ]
  },
  {
   "cell_type": "code",
   "execution_count": 87,
   "metadata": {},
   "outputs": [
    {
     "data": {
      "text/plain": [
       "False"
      ]
     },
     "execution_count": 87,
     "metadata": {},
     "output_type": "execute_result"
    }
   ],
   "source": [
    "'NJBF000068902' in df_2['BldgID']"
   ]
  },
  {
   "cell_type": "code",
   "execution_count": 88,
   "metadata": {},
   "outputs": [
    {
     "data": {
      "text/html": [
       "<div>\n",
       "<style scoped>\n",
       "    .dataframe tbody tr th:only-of-type {\n",
       "        vertical-align: middle;\n",
       "    }\n",
       "\n",
       "    .dataframe tbody tr th {\n",
       "        vertical-align: top;\n",
       "    }\n",
       "\n",
       "    .dataframe thead th {\n",
       "        text-align: right;\n",
       "    }\n",
       "</style>\n",
       "<table border=\"1\" class=\"dataframe\">\n",
       "  <thead>\n",
       "    <tr style=\"text-align: right;\">\n",
       "      <th></th>\n",
       "      <th>filename</th>\n",
       "      <th>year_built</th>\n",
       "    </tr>\n",
       "  </thead>\n",
       "  <tbody>\n",
       "    <tr>\n",
       "      <th>0</th>\n",
       "      <td>/home/saschaho/Simcenter/Floor_Elevation_Data/...</td>\n",
       "      <td>1998.0</td>\n",
       "    </tr>\n",
       "    <tr>\n",
       "      <th>1</th>\n",
       "      <td>/home/saschaho/Simcenter/Floor_Elevation_Data/...</td>\n",
       "      <td>1969.0</td>\n",
       "    </tr>\n",
       "    <tr>\n",
       "      <th>2</th>\n",
       "      <td>/home/saschaho/Simcenter/Floor_Elevation_Data/...</td>\n",
       "      <td>1970.0</td>\n",
       "    </tr>\n",
       "    <tr>\n",
       "      <th>3</th>\n",
       "      <td>/home/saschaho/Simcenter/Floor_Elevation_Data/...</td>\n",
       "      <td>1969.0</td>\n",
       "    </tr>\n",
       "    <tr>\n",
       "      <th>4</th>\n",
       "      <td>/home/saschaho/Simcenter/Floor_Elevation_Data/...</td>\n",
       "      <td>1984.0</td>\n",
       "    </tr>\n",
       "  </tbody>\n",
       "</table>\n",
       "</div>"
      ],
      "text/plain": [
       "                                            filename  year_built\n",
       "0  /home/saschaho/Simcenter/Floor_Elevation_Data/...      1998.0\n",
       "1  /home/saschaho/Simcenter/Floor_Elevation_Data/...      1969.0\n",
       "2  /home/saschaho/Simcenter/Floor_Elevation_Data/...      1970.0\n",
       "3  /home/saschaho/Simcenter/Floor_Elevation_Data/...      1969.0\n",
       "4  /home/saschaho/Simcenter/Floor_Elevation_Data/...      1984.0"
      ]
     },
     "execution_count": 88,
     "metadata": {},
     "output_type": "execute_result"
    }
   ],
   "source": [
    "df_1 = df_1.loc[:,['filename','year_built']]\n",
    "df_1['filename'] = '/home/saschaho/Simcenter/Floor_Elevation_Data/Streetview_Irma/Streetview_Irma/images/' + df_1['filename']\n",
    "df_1.head(5)"
   ]
  },
  {
   "cell_type": "code",
   "execution_count": 89,
   "metadata": {},
   "outputs": [],
   "source": [
    "df_2.columns=['filename','year_built']\n",
    "df_2['filename'] = '/home/shuai/YearBuiltData/YearBuilt/images/'+df_2['filename']+'.png'"
   ]
  },
  {
   "cell_type": "code",
   "execution_count": 90,
   "metadata": {},
   "outputs": [],
   "source": [
    "df_3 = df_3.loc[:,['filename','year_built']]\n",
    "df_3['filename'] = '/home/saschaho/Simcenter/Floor_Elevation_Data/Streetview_Irma/Streetview_Irma/images/' + df_3['filename']"
   ]
  },
  {
   "cell_type": "code",
   "execution_count": 91,
   "metadata": {},
   "outputs": [],
   "source": [
    "df_4 = df_4.loc[:,['filename','year_built']]\n",
    "df_4['filename'] = '/home/saschaho/Simcenter/Foundation_Images_Orig/' + df_4['filename']"
   ]
  },
  {
   "cell_type": "code",
   "execution_count": 92,
   "metadata": {},
   "outputs": [
    {
     "data": {
      "text/html": [
       "<div>\n",
       "<style scoped>\n",
       "    .dataframe tbody tr th:only-of-type {\n",
       "        vertical-align: middle;\n",
       "    }\n",
       "\n",
       "    .dataframe tbody tr th {\n",
       "        vertical-align: top;\n",
       "    }\n",
       "\n",
       "    .dataframe thead th {\n",
       "        text-align: right;\n",
       "    }\n",
       "</style>\n",
       "<table border=\"1\" class=\"dataframe\">\n",
       "  <thead>\n",
       "    <tr style=\"text-align: right;\">\n",
       "      <th></th>\n",
       "      <th>filename</th>\n",
       "      <th>year_built</th>\n",
       "    </tr>\n",
       "  </thead>\n",
       "  <tbody>\n",
       "    <tr>\n",
       "      <th>0</th>\n",
       "      <td>/home/saschaho/Simcenter/Floor_Elevation_Data/...</td>\n",
       "      <td>1998.0</td>\n",
       "    </tr>\n",
       "    <tr>\n",
       "      <th>1</th>\n",
       "      <td>/home/saschaho/Simcenter/Floor_Elevation_Data/...</td>\n",
       "      <td>1969.0</td>\n",
       "    </tr>\n",
       "    <tr>\n",
       "      <th>2</th>\n",
       "      <td>/home/saschaho/Simcenter/Floor_Elevation_Data/...</td>\n",
       "      <td>1970.0</td>\n",
       "    </tr>\n",
       "    <tr>\n",
       "      <th>3</th>\n",
       "      <td>/home/saschaho/Simcenter/Floor_Elevation_Data/...</td>\n",
       "      <td>1969.0</td>\n",
       "    </tr>\n",
       "    <tr>\n",
       "      <th>4</th>\n",
       "      <td>/home/saschaho/Simcenter/Floor_Elevation_Data/...</td>\n",
       "      <td>1984.0</td>\n",
       "    </tr>\n",
       "  </tbody>\n",
       "</table>\n",
       "</div>"
      ],
      "text/plain": [
       "                                            filename  year_built\n",
       "0  /home/saschaho/Simcenter/Floor_Elevation_Data/...      1998.0\n",
       "1  /home/saschaho/Simcenter/Floor_Elevation_Data/...      1969.0\n",
       "2  /home/saschaho/Simcenter/Floor_Elevation_Data/...      1970.0\n",
       "3  /home/saschaho/Simcenter/Floor_Elevation_Data/...      1969.0\n",
       "4  /home/saschaho/Simcenter/Floor_Elevation_Data/...      1984.0"
      ]
     },
     "metadata": {},
     "output_type": "display_data"
    },
    {
     "data": {
      "text/html": [
       "<div>\n",
       "<style scoped>\n",
       "    .dataframe tbody tr th:only-of-type {\n",
       "        vertical-align: middle;\n",
       "    }\n",
       "\n",
       "    .dataframe tbody tr th {\n",
       "        vertical-align: top;\n",
       "    }\n",
       "\n",
       "    .dataframe thead th {\n",
       "        text-align: right;\n",
       "    }\n",
       "</style>\n",
       "<table border=\"1\" class=\"dataframe\">\n",
       "  <thead>\n",
       "    <tr style=\"text-align: right;\">\n",
       "      <th></th>\n",
       "      <th>filename</th>\n",
       "      <th>year_built</th>\n",
       "    </tr>\n",
       "  </thead>\n",
       "  <tbody>\n",
       "    <tr>\n",
       "      <th>0</th>\n",
       "      <td>/home/shuai/YearBuiltData/YearBuilt/images/NJB...</td>\n",
       "      <td>1956</td>\n",
       "    </tr>\n",
       "    <tr>\n",
       "      <th>1</th>\n",
       "      <td>/home/shuai/YearBuiltData/YearBuilt/images/NJB...</td>\n",
       "      <td>1948</td>\n",
       "    </tr>\n",
       "    <tr>\n",
       "      <th>2</th>\n",
       "      <td>/home/shuai/YearBuiltData/YearBuilt/images/NJB...</td>\n",
       "      <td>1954</td>\n",
       "    </tr>\n",
       "    <tr>\n",
       "      <th>3</th>\n",
       "      <td>/home/shuai/YearBuiltData/YearBuilt/images/NJB...</td>\n",
       "      <td>1977</td>\n",
       "    </tr>\n",
       "    <tr>\n",
       "      <th>4</th>\n",
       "      <td>/home/shuai/YearBuiltData/YearBuilt/images/NJB...</td>\n",
       "      <td>1924</td>\n",
       "    </tr>\n",
       "  </tbody>\n",
       "</table>\n",
       "</div>"
      ],
      "text/plain": [
       "                                            filename  year_built\n",
       "0  /home/shuai/YearBuiltData/YearBuilt/images/NJB...        1956\n",
       "1  /home/shuai/YearBuiltData/YearBuilt/images/NJB...        1948\n",
       "2  /home/shuai/YearBuiltData/YearBuilt/images/NJB...        1954\n",
       "3  /home/shuai/YearBuiltData/YearBuilt/images/NJB...        1977\n",
       "4  /home/shuai/YearBuiltData/YearBuilt/images/NJB...        1924"
      ]
     },
     "metadata": {},
     "output_type": "display_data"
    },
    {
     "data": {
      "text/html": [
       "<div>\n",
       "<style scoped>\n",
       "    .dataframe tbody tr th:only-of-type {\n",
       "        vertical-align: middle;\n",
       "    }\n",
       "\n",
       "    .dataframe tbody tr th {\n",
       "        vertical-align: top;\n",
       "    }\n",
       "\n",
       "    .dataframe thead th {\n",
       "        text-align: right;\n",
       "    }\n",
       "</style>\n",
       "<table border=\"1\" class=\"dataframe\">\n",
       "  <thead>\n",
       "    <tr style=\"text-align: right;\">\n",
       "      <th></th>\n",
       "      <th>filename</th>\n",
       "      <th>year_built</th>\n",
       "    </tr>\n",
       "  </thead>\n",
       "  <tbody>\n",
       "    <tr>\n",
       "      <th>0</th>\n",
       "      <td>/home/saschaho/Simcenter/Floor_Elevation_Data/...</td>\n",
       "      <td>1990.0</td>\n",
       "    </tr>\n",
       "    <tr>\n",
       "      <th>1</th>\n",
       "      <td>/home/saschaho/Simcenter/Floor_Elevation_Data/...</td>\n",
       "      <td>1977.0</td>\n",
       "    </tr>\n",
       "    <tr>\n",
       "      <th>2</th>\n",
       "      <td>/home/saschaho/Simcenter/Floor_Elevation_Data/...</td>\n",
       "      <td>1999.0</td>\n",
       "    </tr>\n",
       "    <tr>\n",
       "      <th>3</th>\n",
       "      <td>/home/saschaho/Simcenter/Floor_Elevation_Data/...</td>\n",
       "      <td>1974.0</td>\n",
       "    </tr>\n",
       "    <tr>\n",
       "      <th>4</th>\n",
       "      <td>/home/saschaho/Simcenter/Floor_Elevation_Data/...</td>\n",
       "      <td>1986.0</td>\n",
       "    </tr>\n",
       "  </tbody>\n",
       "</table>\n",
       "</div>"
      ],
      "text/plain": [
       "                                            filename  year_built\n",
       "0  /home/saschaho/Simcenter/Floor_Elevation_Data/...      1990.0\n",
       "1  /home/saschaho/Simcenter/Floor_Elevation_Data/...      1977.0\n",
       "2  /home/saschaho/Simcenter/Floor_Elevation_Data/...      1999.0\n",
       "3  /home/saschaho/Simcenter/Floor_Elevation_Data/...      1974.0\n",
       "4  /home/saschaho/Simcenter/Floor_Elevation_Data/...      1986.0"
      ]
     },
     "metadata": {},
     "output_type": "display_data"
    },
    {
     "data": {
      "text/html": [
       "<div>\n",
       "<style scoped>\n",
       "    .dataframe tbody tr th:only-of-type {\n",
       "        vertical-align: middle;\n",
       "    }\n",
       "\n",
       "    .dataframe tbody tr th {\n",
       "        vertical-align: top;\n",
       "    }\n",
       "\n",
       "    .dataframe thead th {\n",
       "        text-align: right;\n",
       "    }\n",
       "</style>\n",
       "<table border=\"1\" class=\"dataframe\">\n",
       "  <thead>\n",
       "    <tr style=\"text-align: right;\">\n",
       "      <th></th>\n",
       "      <th>filename</th>\n",
       "      <th>year_built</th>\n",
       "    </tr>\n",
       "  </thead>\n",
       "  <tbody>\n",
       "    <tr>\n",
       "      <th>0</th>\n",
       "      <td>/home/saschaho/Simcenter/Foundation_Images_Ori...</td>\n",
       "      <td>2002</td>\n",
       "    </tr>\n",
       "    <tr>\n",
       "      <th>1</th>\n",
       "      <td>/home/saschaho/Simcenter/Foundation_Images_Ori...</td>\n",
       "      <td>1927</td>\n",
       "    </tr>\n",
       "    <tr>\n",
       "      <th>2</th>\n",
       "      <td>/home/saschaho/Simcenter/Foundation_Images_Ori...</td>\n",
       "      <td>1947</td>\n",
       "    </tr>\n",
       "    <tr>\n",
       "      <th>3</th>\n",
       "      <td>/home/saschaho/Simcenter/Foundation_Images_Ori...</td>\n",
       "      <td>1954</td>\n",
       "    </tr>\n",
       "    <tr>\n",
       "      <th>4</th>\n",
       "      <td>/home/saschaho/Simcenter/Foundation_Images_Ori...</td>\n",
       "      <td>1928</td>\n",
       "    </tr>\n",
       "  </tbody>\n",
       "</table>\n",
       "</div>"
      ],
      "text/plain": [
       "                                            filename  year_built\n",
       "0  /home/saschaho/Simcenter/Foundation_Images_Ori...        2002\n",
       "1  /home/saschaho/Simcenter/Foundation_Images_Ori...        1927\n",
       "2  /home/saschaho/Simcenter/Foundation_Images_Ori...        1947\n",
       "3  /home/saschaho/Simcenter/Foundation_Images_Ori...        1954\n",
       "4  /home/saschaho/Simcenter/Foundation_Images_Ori...        1928"
      ]
     },
     "metadata": {},
     "output_type": "display_data"
    }
   ],
   "source": [
    "display(df_1.head(5))\n",
    "display(df_2.head(5))\n",
    "display(df_3.head(5))\n",
    "display(df_4.head(5))"
   ]
  },
  {
   "cell_type": "code",
   "execution_count": 93,
   "metadata": {},
   "outputs": [],
   "source": [
    "df = pd.concat([df_1,df_2,df_3,df_4], ignore_index=True)"
   ]
  },
  {
   "cell_type": "code",
   "execution_count": 94,
   "metadata": {},
   "outputs": [
    {
     "data": {
      "text/plain": [
       "48694"
      ]
     },
     "execution_count": 94,
     "metadata": {},
     "output_type": "execute_result"
    }
   ],
   "source": [
    "len(df)"
   ]
  },
  {
   "cell_type": "code",
   "execution_count": 97,
   "metadata": {},
   "outputs": [
    {
     "data": {
      "text/plain": [
       "False"
      ]
     },
     "execution_count": 97,
     "metadata": {},
     "output_type": "execute_result"
    }
   ],
   "source": [
    "'/home/shuai/YearBuiltData/YearBuilt/images/NJBF000076798.png' in df['filename']"
   ]
  },
  {
   "cell_type": "code",
   "execution_count": 98,
   "metadata": {},
   "outputs": [
    {
     "data": {
      "text/html": [
       "<div>\n",
       "<style scoped>\n",
       "    .dataframe tbody tr th:only-of-type {\n",
       "        vertical-align: middle;\n",
       "    }\n",
       "\n",
       "    .dataframe tbody tr th {\n",
       "        vertical-align: top;\n",
       "    }\n",
       "\n",
       "    .dataframe thead th {\n",
       "        text-align: right;\n",
       "    }\n",
       "</style>\n",
       "<table border=\"1\" class=\"dataframe\">\n",
       "  <thead>\n",
       "    <tr style=\"text-align: right;\">\n",
       "      <th></th>\n",
       "      <th>filename</th>\n",
       "    </tr>\n",
       "  </thead>\n",
       "  <tbody>\n",
       "    <tr>\n",
       "      <th>0</th>\n",
       "      <td>/home/saschaho/Simcenter/Floor_Elevation_Data/...</td>\n",
       "    </tr>\n",
       "    <tr>\n",
       "      <th>1</th>\n",
       "      <td>/home/saschaho/Simcenter/Floor_Elevation_Data/...</td>\n",
       "    </tr>\n",
       "    <tr>\n",
       "      <th>2</th>\n",
       "      <td>/home/saschaho/Simcenter/Floor_Elevation_Data/...</td>\n",
       "    </tr>\n",
       "    <tr>\n",
       "      <th>3</th>\n",
       "      <td>/home/saschaho/Simcenter/Floor_Elevation_Data/...</td>\n",
       "    </tr>\n",
       "    <tr>\n",
       "      <th>4</th>\n",
       "      <td>/home/saschaho/Simcenter/Floor_Elevation_Data/...</td>\n",
       "    </tr>\n",
       "    <tr>\n",
       "      <th>...</th>\n",
       "      <td>...</td>\n",
       "    </tr>\n",
       "    <tr>\n",
       "      <th>48689</th>\n",
       "      <td>/home/saschaho/Simcenter/Foundation_Images_Ori...</td>\n",
       "    </tr>\n",
       "    <tr>\n",
       "      <th>48690</th>\n",
       "      <td>/home/saschaho/Simcenter/Foundation_Images_Ori...</td>\n",
       "    </tr>\n",
       "    <tr>\n",
       "      <th>48691</th>\n",
       "      <td>/home/saschaho/Simcenter/Foundation_Images_Ori...</td>\n",
       "    </tr>\n",
       "    <tr>\n",
       "      <th>48692</th>\n",
       "      <td>/home/saschaho/Simcenter/Foundation_Images_Ori...</td>\n",
       "    </tr>\n",
       "    <tr>\n",
       "      <th>48693</th>\n",
       "      <td>/home/saschaho/Simcenter/Foundation_Images_Ori...</td>\n",
       "    </tr>\n",
       "  </tbody>\n",
       "</table>\n",
       "<p>48694 rows × 1 columns</p>\n",
       "</div>"
      ],
      "text/plain": [
       "                                                filename\n",
       "0      /home/saschaho/Simcenter/Floor_Elevation_Data/...\n",
       "1      /home/saschaho/Simcenter/Floor_Elevation_Data/...\n",
       "2      /home/saschaho/Simcenter/Floor_Elevation_Data/...\n",
       "3      /home/saschaho/Simcenter/Floor_Elevation_Data/...\n",
       "4      /home/saschaho/Simcenter/Floor_Elevation_Data/...\n",
       "...                                                  ...\n",
       "48689  /home/saschaho/Simcenter/Foundation_Images_Ori...\n",
       "48690  /home/saschaho/Simcenter/Foundation_Images_Ori...\n",
       "48691  /home/saschaho/Simcenter/Foundation_Images_Ori...\n",
       "48692  /home/saschaho/Simcenter/Foundation_Images_Ori...\n",
       "48693  /home/saschaho/Simcenter/Foundation_Images_Ori...\n",
       "\n",
       "[48694 rows x 1 columns]"
      ]
     },
     "execution_count": 98,
     "metadata": {},
     "output_type": "execute_result"
    }
   ],
   "source": [
    "df[['filename']]"
   ]
  },
  {
   "cell_type": "code",
   "execution_count": 73,
   "metadata": {},
   "outputs": [],
   "source": [
    "# df = df.sample(48625)\n",
    "# df = df.sort_index()\n",
    "# df.index = range(48625)"
   ]
  },
  {
   "cell_type": "code",
   "execution_count": 95,
   "metadata": {},
   "outputs": [],
   "source": [
    "df.to_csv('all_data.csv')"
   ]
  },
  {
   "cell_type": "code",
   "execution_count": 96,
   "metadata": {},
   "outputs": [],
   "source": [
    "dff = pd.concat([df_1, df_2, df_3], ignore_index=True)\n",
    "dff.to_csv('validate_data.csv')"
   ]
  },
  {
   "cell_type": "code",
   "execution_count": 69,
   "metadata": {},
   "outputs": [
    {
     "data": {
      "text/plain": [
       "48625"
      ]
     },
     "execution_count": 69,
     "metadata": {},
     "output_type": "execute_result"
    }
   ],
   "source": [
    "len(df)"
   ]
  },
  {
   "cell_type": "code",
   "execution_count": 50,
   "metadata": {},
   "outputs": [
    {
     "data": {
      "text/plain": [
       "48625"
      ]
     },
     "execution_count": 50,
     "metadata": {},
     "output_type": "execute_result"
    }
   ],
   "source": [
    "int(48694/125)*125"
   ]
  },
  {
   "cell_type": "code",
   "execution_count": 83,
   "metadata": {},
   "outputs": [
    {
     "data": {
      "text/plain": [
       "False"
      ]
     },
     "execution_count": 83,
     "metadata": {},
     "output_type": "execute_result"
    }
   ],
   "source": [
    "'/home/shuai/YearBuiltData/YearBuilt/images/NJBF000068902.png' in df['filename']"
   ]
  },
  {
   "cell_type": "code",
   "execution_count": 77,
   "metadata": {},
   "outputs": [
    {
     "data": {
      "text/html": [
       "<div>\n",
       "<style scoped>\n",
       "    .dataframe tbody tr th:only-of-type {\n",
       "        vertical-align: middle;\n",
       "    }\n",
       "\n",
       "    .dataframe tbody tr th {\n",
       "        vertical-align: top;\n",
       "    }\n",
       "\n",
       "    .dataframe thead th {\n",
       "        text-align: right;\n",
       "    }\n",
       "</style>\n",
       "<table border=\"1\" class=\"dataframe\">\n",
       "  <thead>\n",
       "    <tr style=\"text-align: right;\">\n",
       "      <th></th>\n",
       "      <th>filename</th>\n",
       "      <th>year_built</th>\n",
       "    </tr>\n",
       "  </thead>\n",
       "  <tbody>\n",
       "    <tr>\n",
       "      <th>0</th>\n",
       "      <td>/home/saschaho/Simcenter/Floor_Elevation_Data/...</td>\n",
       "      <td>1998.0</td>\n",
       "    </tr>\n",
       "    <tr>\n",
       "      <th>1</th>\n",
       "      <td>/home/saschaho/Simcenter/Floor_Elevation_Data/...</td>\n",
       "      <td>1969.0</td>\n",
       "    </tr>\n",
       "    <tr>\n",
       "      <th>2</th>\n",
       "      <td>/home/saschaho/Simcenter/Floor_Elevation_Data/...</td>\n",
       "      <td>1970.0</td>\n",
       "    </tr>\n",
       "    <tr>\n",
       "      <th>3</th>\n",
       "      <td>/home/saschaho/Simcenter/Floor_Elevation_Data/...</td>\n",
       "      <td>1969.0</td>\n",
       "    </tr>\n",
       "    <tr>\n",
       "      <th>4</th>\n",
       "      <td>/home/saschaho/Simcenter/Floor_Elevation_Data/...</td>\n",
       "      <td>1984.0</td>\n",
       "    </tr>\n",
       "    <tr>\n",
       "      <th>...</th>\n",
       "      <td>...</td>\n",
       "      <td>...</td>\n",
       "    </tr>\n",
       "    <tr>\n",
       "      <th>33348</th>\n",
       "      <td>/home/saschaho/Simcenter/Floor_Elevation_Data/...</td>\n",
       "      <td>1986.0</td>\n",
       "    </tr>\n",
       "    <tr>\n",
       "      <th>33349</th>\n",
       "      <td>/home/saschaho/Simcenter/Floor_Elevation_Data/...</td>\n",
       "      <td>1925.0</td>\n",
       "    </tr>\n",
       "    <tr>\n",
       "      <th>33350</th>\n",
       "      <td>/home/saschaho/Simcenter/Floor_Elevation_Data/...</td>\n",
       "      <td>2010.0</td>\n",
       "    </tr>\n",
       "    <tr>\n",
       "      <th>33351</th>\n",
       "      <td>/home/saschaho/Simcenter/Floor_Elevation_Data/...</td>\n",
       "      <td>1999.0</td>\n",
       "    </tr>\n",
       "    <tr>\n",
       "      <th>33352</th>\n",
       "      <td>/home/saschaho/Simcenter/Floor_Elevation_Data/...</td>\n",
       "      <td>1983.0</td>\n",
       "    </tr>\n",
       "  </tbody>\n",
       "</table>\n",
       "<p>33353 rows × 2 columns</p>\n",
       "</div>"
      ],
      "text/plain": [
       "                                                filename  year_built\n",
       "0      /home/saschaho/Simcenter/Floor_Elevation_Data/...      1998.0\n",
       "1      /home/saschaho/Simcenter/Floor_Elevation_Data/...      1969.0\n",
       "2      /home/saschaho/Simcenter/Floor_Elevation_Data/...      1970.0\n",
       "3      /home/saschaho/Simcenter/Floor_Elevation_Data/...      1969.0\n",
       "4      /home/saschaho/Simcenter/Floor_Elevation_Data/...      1984.0\n",
       "...                                                  ...         ...\n",
       "33348  /home/saschaho/Simcenter/Floor_Elevation_Data/...      1986.0\n",
       "33349  /home/saschaho/Simcenter/Floor_Elevation_Data/...      1925.0\n",
       "33350  /home/saschaho/Simcenter/Floor_Elevation_Data/...      2010.0\n",
       "33351  /home/saschaho/Simcenter/Floor_Elevation_Data/...      1999.0\n",
       "33352  /home/saschaho/Simcenter/Floor_Elevation_Data/...      1983.0\n",
       "\n",
       "[33353 rows x 2 columns]"
      ]
     },
     "execution_count": 77,
     "metadata": {},
     "output_type": "execute_result"
    }
   ],
   "source": [
    "dff"
   ]
  },
  {
   "cell_type": "code",
   "execution_count": null,
   "metadata": {},
   "outputs": [],
   "source": []
  }
 ],
 "metadata": {
  "kernelspec": {
   "display_name": "Python 3.7.6 64-bit",
   "language": "python",
   "name": "python37664bit150e47e961f14f579a3bd8ae0f8ea99e"
  },
  "language_info": {
   "codemirror_mode": {
    "name": "ipython",
    "version": 3
   },
   "file_extension": ".py",
   "mimetype": "text/x-python",
   "name": "python",
   "nbconvert_exporter": "python",
   "pygments_lexer": "ipython3",
   "version": "3.7.6"
  }
 },
 "nbformat": 4,
 "nbformat_minor": 2
}
