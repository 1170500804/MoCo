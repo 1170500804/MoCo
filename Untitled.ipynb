{
 "cells": [
  {
   "cell_type": "code",
   "execution_count": null,
   "metadata": {},
   "outputs": [],
   "source": [
    "import pandas as pd"
   ]
  },
  {
   "cell_type": "code",
   "execution_count": null,
   "metadata": {},
   "outputs": [],
   "source": [
    "df_1 = pd.read_csv('all_bims_train_cleaned.csv')\n",
    "df_3 = pd.read_csv('all_bims_val_cleaned.csv')\n",
    "df_2 = pd.read_csv('YearBuiltLabels.csv')\n",
    "df_4 = pd.read_csv('foundation_type.csv')"
   ]
  },
  {
   "cell_type": "code",
   "execution_count": null,
   "metadata": {},
   "outputs": [],
   "source": [
    "'NJBF000068902' in df_2['BldgID']"
   ]
  },
  {
   "cell_type": "code",
   "execution_count": null,
   "metadata": {},
   "outputs": [],
   "source": [
    "df_1 = df_1.loc[:,['filename','year_built']]\n",
    "df_1['filename'] = '/home/saschaho/Simcenter/Floor_Elevation_Data/Streetview_Irma/Streetview_Irma/images/' + df_1['filename']\n",
    "df_1.head(5)"
   ]
  },
  {
   "cell_type": "code",
   "execution_count": null,
   "metadata": {},
   "outputs": [],
   "source": [
    "df_2.columns=['filename','year_built']\n",
    "df_2['filename'] = '/home/shuai/YearBuiltData/YearBuilt/images/'+df_2['filename']+'.png'"
   ]
  },
  {
   "cell_type": "code",
   "execution_count": null,
   "metadata": {},
   "outputs": [],
   "source": [
    "df_3 = df_3.loc[:,['filename','year_built']]\n",
    "df_3['filename'] = '/home/saschaho/Simcenter/Floor_Elevation_Data/Streetview_Irma/Streetview_Irma/images/' + df_3['filename']"
   ]
  },
  {
   "cell_type": "code",
   "execution_count": null,
   "metadata": {},
   "outputs": [],
   "source": [
    "df_4 = df_4.loc[:,['filename','year_built']]\n",
    "df_4['filename'] = '/home/saschaho/Simcenter/Foundation_Images_Orig/' + df_4['filename']"
   ]
  },
  {
   "cell_type": "code",
   "execution_count": null,
   "metadata": {},
   "outputs": [],
   "source": [
    "display(df_1.head(5))\n",
    "display(df_2.head(5))\n",
    "display(df_3.head(5))\n",
    "display(df_4.head(5))"
   ]
  },
  {
   "cell_type": "code",
   "execution_count": null,
   "metadata": {},
   "outputs": [],
   "source": [
    "fns = pd.read_csv('filenames.csv')\n",
    "fns = fns[['filenames']]\n",
    "fns.columns = ['filename']\n",
    "fns['filename'] = '/home/shuai/YearBuiltData/YearBuilt/images/'+fns['filename']"
   ]
  },
  {
   "cell_type": "code",
   "execution_count": null,
   "metadata": {},
   "outputs": [],
   "source": [
    "len(fns)"
   ]
  },
  {
   "cell_type": "code",
   "execution_count": null,
   "metadata": {},
   "outputs": [],
   "source": [
    "dif = pd.concat([fns, df_2[['filename']]], ignore_index=True)\n",
    "dif = dif.drop_duplicates(keep=False)\n",
    "dif.index = dif.index-27190"
   ]
  },
  {
   "cell_type": "code",
   "execution_count": null,
   "metadata": {},
   "outputs": [],
   "source": [
    "dif"
   ]
  },
  {
   "cell_type": "code",
   "execution_count": null,
   "metadata": {},
   "outputs": [],
   "source": [
    "dif.iloc[5633:5634,:].index[0]"
   ]
  },
  {
   "cell_type": "code",
   "execution_count": null,
   "metadata": {},
   "outputs": [],
   "source": [
    "df_2"
   ]
  },
  {
   "cell_type": "code",
   "execution_count": null,
   "metadata": {},
   "outputs": [],
   "source": [
    "df_2 = df_2.drop(index=dif.index)"
   ]
  },
  {
   "cell_type": "code",
   "execution_count": null,
   "metadata": {},
   "outputs": [],
   "source": [
    "df = pd.concat([df_1,df_2,df_3,df_4], ignore_index=True)\n",
    "df.to_csv('all_data.csv')\n",
    "dff = pd.concat([df_1, df_2, df_3], ignore_index=True)\n",
    "dff.to_csv('validate_data.csv')"
   ]
  },
  {
   "cell_type": "code",
   "execution_count": 2,
   "metadata": {},
   "outputs": [],
   "source": [
    "import numpy as np\n",
    "from sklearn.manifold import TSNE\n",
    "import matplotlib.pyplot as plt\n",
    "import seaborn as sns\n",
    "import pandas as pd"
   ]
  },
  {
   "cell_type": "code",
   "execution_count": 3,
   "metadata": {},
   "outputs": [],
   "source": [
    "embd = np.loadtxt('../09032020checkpoint_0137_embd.csv')\n",
    "label = np.loadtxt('../09032020checkpoint_0137_label.csv')"
   ]
  },
  {
   "cell_type": "code",
   "execution_count": 4,
   "metadata": {},
   "outputs": [
    {
     "name": "stdout",
     "output_type": "stream",
     "text": [
      "(207,)\n"
     ]
    }
   ],
   "source": [
    "print('{}'.format(label.shape))\n"
   ]
  },
  {
   "cell_type": "code",
   "execution_count": null,
   "metadata": {},
   "outputs": [],
   "source": [
    "embd.shape"
   ]
  },
  {
   "cell_type": "code",
   "execution_count": null,
   "metadata": {},
   "outputs": [],
   "source": [
    "label = np.asarray(label[1:])\n",
    "label = pd.Series(label, dtype=int)\n",
    "label\n",
    "np.unique(label)"
   ]
  },
  {
   "cell_type": "code",
   "execution_count": null,
   "metadata": {},
   "outputs": [],
   "source": [
    "def plot_t_sne(data_subset_embd, data_subset_label, filename):\n",
    "    time_start = time.time()\n",
    "    tsne = TSNE(n_components=2, verbose=1, perplexity=50, n_iter=3000)\n",
    "    tsne_results = tsne.fit_transform(data_subset_embd)\n",
    "    print('t-SNE done! Time elapsed: {} seconds'.format(time.time() - time_start))\n",
    "    plt.figure(figsize=(15, 15))\n",
    "    # sns.set()\n",
    "\n",
    "    sns_plot = sns.scatterplot(\n",
    "        x=tsne_results[:, 0], y=tsne_results[:, 1],\n",
    "        hue=data_subset_label,\n",
    "        palette=sns.cubehelix_palette(dark=.1, light=.9, hue=1,as_cmap=True, n_colors=len(np.unique(label))),\n",
    "        legend=\"full\",\n",
    "        s=30,\n",
    "        alpha=0.3\n",
    "    )\n",
    "    sns_plot.figure.savefig(filename+'.png')\n",
    "    return tsne_results"
   ]
  },
  {
   "cell_type": "code",
   "execution_count": null,
   "metadata": {},
   "outputs": [],
   "source": [
    "import time\n",
    "\n",
    "from sklearn.manifold import TSNE\n",
    "import matplotlib.pyplot as plt\n",
    "import seaborn as sns\n",
    "tsne_results = plot_t_sne(embd, label, 'test')"
   ]
  },
  {
   "cell_type": "code",
   "execution_count": null,
   "metadata": {},
   "outputs": [],
   "source": [
    "label"
   ]
  },
  {
   "cell_type": "code",
   "execution_count": null,
   "metadata": {},
   "outputs": [],
   "source": [
    "df = {}\n",
    "df['x'] = tsne_results[:, 0]\n",
    "df['y'] = tsne_results[:, 1]\n",
    "df['l'] = label\n",
    "df = pd.DataFrame(df)\n",
    "sns.scatterplot(x='x', y='y', hue=label,data=df,palette=sns.color_palette(\"hls\", 206),legend=\"full\",alpha=0.3)"
   ]
  },
  {
   "cell_type": "code",
   "execution_count": null,
   "metadata": {},
   "outputs": [],
   "source": [
    "tsne_results.shape"
   ]
  },
  {
   "cell_type": "code",
   "execution_count": null,
   "metadata": {},
   "outputs": [],
   "source": [
    "import torch"
   ]
  },
  {
   "cell_type": "code",
   "execution_count": null,
   "metadata": {},
   "outputs": [],
   "source": [
    "x = np.array([[1,2,3],[4,5,6]])\n",
    "np.savetxt('test.csv', x)\n",
    "y = np.loadtxt('test.csv')\n",
    "y"
   ]
  },
  {
   "cell_type": "code",
   "execution_count": null,
   "metadata": {},
   "outputs": [],
   "source": []
  }
 ],
 "metadata": {
  "kernelspec": {
   "display_name": "Python 3.7.6 64-bit",
   "language": "python",
   "name": "python37664bit150e47e961f14f579a3bd8ae0f8ea99e"
  },
  "language_info": {
   "codemirror_mode": {
    "name": "ipython",
    "version": 3
   },
   "file_extension": ".py",
   "mimetype": "text/x-python",
   "name": "python",
   "nbconvert_exporter": "python",
   "pygments_lexer": "ipython3",
   "version": "3.7.6"
  }
 },
 "nbformat": 4,
 "nbformat_minor": 2
}
